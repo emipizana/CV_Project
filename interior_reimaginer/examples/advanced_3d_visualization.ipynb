{
 "cells": [
  {
   "cell_type": "markdown",
   "metadata": {},
   "source": [
    "# Advanced 3D Reconstruction Visualization for Interior Reimaginer\n",
    "\n",
    "This notebook demonstrates advanced 3D visualization techniques for the Interior Reimaginer project, highlighting superior alternatives to standard Plotly visualizations. We'll showcase GAN and diffusion-based depth enhancement methods for improved 3D reconstruction quality."
   ]
  },
  {
   "cell_type": "markdown",
   "metadata": {},
   "source": [
    "## Setup\n",
    "\n",
    "First, let's clone the repository and install the required dependencies:"
   ]
  },
  {
   "cell_type": "code",
   "execution_count": null,
   "metadata": {},
   "outputs": [],
   "source": [
    "# Clone the repository\n",
    "!git clone https://github.com/your-username/CV_Project.git\n",
    "\n",
    "%cd CV_Project"
   ]
  },
  {
   "cell_type": "code",
   "execution_count": null,
   "metadata": {},
   "outputs": [],
   "source": [
    "# Install dependencies\n",
    "!pip install -r interior_reimaginer/requirements.txt\n",
    "\n",
    "# Additional packages for advanced visualization\n",
    "!pip install open3d matplotlib plotly pyrender trimesh pyglet==1.5.27 PyOpenGL PyOpenGL-accelerate ipywidgets ipyvolume k3d pythreejs"
   ]
  },
  {
   "cell_type": "markdown",
   "metadata": {},
   "source": [
    "## Import Required Modules"
   ]
  },
  {
   "cell_type": "code",
   "execution_count": null,
   "metadata": {},
   "outputs": [],
   "source": [
    "import os\n",
    "import sys\n",
    "import numpy as np\n",
    "import matplotlib.pyplot as plt\n",
    "import torch\n",
    "import open3d as o3d\n",
    "from PIL import Image\n",
    "import cv2\n",
    "import time\n",
    "import io\n",
    "import base64\n",
    "from IPython.display import HTML, display\n",
    "import ipyvolume as ipv\n",
    "import plotly.graph_objects as go\n",
    "from IPython.display import IFrame\n",
    "\n",
    "# Import our project modules\n",
    "from interior_reimaginer.models.interior_reimaginer import InteriorReimaginer\n",
    "from interior_reimaginer.models.reconstruction_3d import DepthReconstructor\n",
    "\n",
    "# Check if CUDA is available\n",
    "device = \"cuda\" if torch.cuda.is_available() else \"cpu\"\n",
    "print(f\"Using device: {device}\")"
   ]
  },
  {
   "cell_type": "code",
   "execution_count": null,
   "metadata": {},
   "outputs": [],
   "source": [
    "# Initialize models\n",
    "print(\"Initializing models...\")\n",
    "reimaginer = InteriorReimaginer(device=device)\n",
    "depth_reconstructor = DepthReconstructor()\n",
    "print(\"Models initialized successfully!\")"
   ]
  },
  {
   "cell_type": "markdown",
   "metadata": {},
   "source": [
    "## Upload or Load an Image\n",
    "\n",
    "You can either upload your own interior image or use one of our sample images:"
   ]
  },
  {
   "cell_type": "code",
   "execution_count": null,
   "metadata": {},
   "outputs": [],
   "source": [
    "# Option 1: Upload an image\n",
    "from google.colab import files\n",
    "uploaded = files.upload()  # This will prompt you to upload an image\n",
    "\n",
    "import io\n",
    "image_name = list(uploaded.keys())[0]\n",
    "image = Image.open(io.BytesIO(uploaded[image_name]))\n",
    "\n",
    "# Display the uploaded image\n",
    "plt.figure(figsize=(12, 8))\n",
    "plt.imshow(image)\n",
    "plt.title(\"Uploaded Image\")\n",
    "plt.axis('off')\n",
    "plt.show()"
   ]
  },
  {
   "cell_type": "markdown",
   "metadata": {},
   "source": [
    "## Process the Image\n",
    "\n",
    "We'll process the image to extract depth information and other features:"
   ]
  },
  {
   "cell_type": "code",
   "execution_count": null,
   "metadata": {},
   "outputs": [],
   "source": [
    "print(\"Processing the image...\")\n",
    "processed = reimaginer.image_processor.process_image(image)\n",
    "print(\"Image processing complete!\")\n",
    "\n",
    "# Display the depth map\n",
    "if processed.depth_map is not None:\n",
    "    plt.figure(figsize=(12, 8))\n",
    "    plt.imshow(processed.depth_map, cmap='inferno')\n",
    "    plt.title(\"Generated Depth Map\")\n",
    "    plt.colorbar(label=\"Depth\")\n",
    "    plt.axis('off')\n",
    "    plt.show()\n",
    "else:\n",
    "    print(\"Depth map generation failed.\")"
   ]
  },
  {
   "cell_type": "markdown",
   "metadata": {},
   "source": [
    "## Advanced 3D Visualization Methods\n",
    "\n",
    "Let's explore different advanced visualization techniques beyond standard Plotly:"
   ]
  },
  {
   "cell_type": "markdown",
   "metadata": {},
   "source": [
    "### 1. Enhanced Depth Map Visualization"
   ]
  },
  {
   "cell_type": "code",
   "execution_count": null,
   "metadata": {},
   "outputs": [],
   "source": [
    "# Apply high-quality render with improved colormaps\n",
    "enhanced_depth_viz = depth_reconstructor.render_depth_map(\n",
    "    processed.depth_map, \n",
    "    colormap=cv2.COLORMAP_TURBO,  # Try different colormaps: COLORMAP_TURBO, COLORMAP_JET, COLORMAP_VIRIDIS\n",
    "    width=1000, \n",
    "    height=800\n",
    ")\n",
    "\n",
    "plt.figure(figsize=(16, 10))\n",
    "plt.imshow(enhanced_depth_viz)\n",
    "plt.title(\"Enhanced Depth Map Visualization\")\n",
    "plt.axis('off')\n",
    "plt.show()"
   ]
  },
  {
   "cell_type": "markdown",
   "metadata": {},
   "source": [
    "### 2. GAN-Based Enhanced 3D Reconstruction\n",
    "\n",
    "Use GAN-based depth enhancement to improve the quality of the 3D reconstruction:"
   ]
  },
  {
   "cell_type": "code",
   "execution_count": null,
   "metadata": {},
   "outputs": [],
   "source": [
    "print(\"Creating GAN-enhanced 3D reconstruction...\")\n",
    "gan_render_img, gan_pcd = depth_reconstructor.enhanced_reconstruction(\n",
    "    depth_map=processed.depth_map,\n",
    "    image=image,\n",
    "    width=1000,\n",
    "    height=800,\n",
    "    use_gan=True,  # Enable GAN enhancement\n",
    "    solid_rendering=True  # Use solid rendering for more realistic visualization\n",
    ")\n",
    "\n",
    "plt.figure(figsize=(16, 10))\n",
    "plt.imshow(gan_render_img)\n",
    "plt.title(\"GAN-Enhanced 3D Reconstruction\")\n",
    "plt.axis('off')\n",
    "plt.show()"
   ]
  },
  {
   "cell_type": "markdown",
   "metadata": {},
   "source": [
    "### 3. Diffusion-Based Enhanced 3D Reconstruction\n",
    "\n",
    "Use diffusion-based depth enhancement for a different approach to improving 3D reconstruction:"
   ]
  },
  {
   "cell_type": "code",
   "execution_count": null,
   "metadata": {},
   "outputs": [],
   "source": [
    "print(\"Creating diffusion-enhanced 3D reconstruction...\")\n",
    "diffusion_render_img, diffusion_pcd = depth_reconstructor.diffusion_reconstruction(\n",
    "    depth_map=processed.depth_map,\n",
    "    image=image,\n",
    "    width=1000,\n",
    "    height=800,\n",
    "    solid_rendering=True  # Use solid rendering for more realistic visualization\n",
    ")\n",
    "\n",
    "plt.figure(figsize=(16, 10))\n",
    "plt.imshow(diffusion_render_img)\n",
    "plt.title(\"Diffusion-Enhanced 3D Reconstruction\")\n",
    "plt.axis('off')\n",
    "plt.show()"
   ]
  },
  {
   "cell_type": "markdown",
   "metadata": {},
   "source": [
    "### 4. Local Region Models (LRM) Reconstruction\n",
    "\n",
    "Use LRM for more detailed local geometry processing:"
   ]
  },
  {
   "cell_type": "code",
   "execution_count": null,
   "metadata": {},
   "outputs": [],
   "source": [
    "print(\"Creating LRM 3D reconstruction...\")\n",
    "lrm_render_img, lrm_pcd = depth_reconstructor.lrm_reconstruction(\n",
    "    depth_map=processed.depth_map,\n",
    "    image=image,\n",
    "    width=1000,\n",
    "    height=800,\n",
    "    downsample_factor=2,\n",
    "    patch_size=32,\n",
    "    overlap=8,\n",
    "    solid_rendering=True\n",
    ")\n",
    "\n",
    "plt.figure(figsize=(16, 10))\n",
    "plt.imshow(lrm_render_img)\n",
    "plt.title(\"LRM-Enhanced 3D Reconstruction\")\n",
    "plt.axis('off')\n",
    "plt.show()"
   ]
  },
  {
   "cell_type": "markdown",
   "metadata": {},
   "source": [
    "## Interactive 3D Visualization with HTML Export"
   ]
  },
  {
   "cell_type": "code",
   "execution_count": null,
   "metadata": {},
   "outputs": [],
   "source": [
    "def create_interactive_pointcloud_visualization(pcd, width=900, height=600):\n",
    "    \"\"\"Create an interactive 3D visualization using Plotly\"\"\"\n",
    "    # Convert Open3D point cloud to numpy arrays\n",
    "    points = np.asarray(pcd.points)\n",
    "    colors = np.asarray(pcd.colors)\n",
    "    \n",
    "    # Convert RGB to hex for Plotly\n",
    "    hex_colors = [f'rgb({int(r*255)},{int(g*255)},{int(b*255)})' for r, g, b in colors]\n",
    "    \n",
    "    # Create a 3D scatter plot\n",
    "    fig = go.Figure(data=[go.Scatter3d(\n",
    "        x=points[:, 0],\n",
    "        y=points[:, 2],  # Use z as y for better orientation\n",
    "        z=-points[:, 1],  # Negative y for correct orientation\n",
    "        mode='markers',\n",
    "        marker=dict(\n",
    "            size=2,\n",
    "            color=hex_colors,\n",
    "            opacity=0.8\n",
    "        )\n",
    "    )])\n",
    "    \n",
    "    # Set up the layout\n",
    "    fig.update_layout(\n",
    "        width=width,\n",
    "        height=height,\n",
    "        scene=dict(aspectmode='data'),\n",
    "        margin=dict(l=0, r=0, b=0, t=30),\n",
    "        title=\"Interactive 3D Reconstruction\"\n",
    "    )\n",
    "    \n",
    "    return fig\n",
    "\n",
    "# Create interactive visualization using the best point cloud\n",
    "best_pcd = lrm_pcd if len(lrm_pcd.points) > 0 else (diffusion_pcd if len(diffusion_pcd.points) > 0 else gan_pcd)\n",
    "\n",
    "if len(best_pcd.points) > 0:\n",
    "    interactive_fig = create_interactive_pointcloud_visualization(best_pcd)\n",
    "    interactive_fig.show()\n",
    "else:\n",
    "    print(\"No valid point cloud available for interactive visualization\")"
   ]
  },
  {
   "cell_type": "markdown",
   "metadata": {},
   "source": [
    "## Conclusion\n",
    "\n",
    "In this notebook, we've demonstrated several advanced 3D visualization techniques for interior reconstruction:\n",
    "\n",
    "1. Enhanced depth map rendering with improved colormaps\n",
    "2. GAN-based depth enhancement for better 3D reconstruction\n",
    "3. Diffusion-based methods for filling in missing depth information\n",
    "4. Local Region Models (LRM) for detailed geometry processing\n",
    "5. Interactive 3D visualizations using various libraries\n",
    "\n",
    "These techniques provide significant improvements over standard Plotly visualizations, offering better detail, more realistic rendering, and enhanced interactivity for exploring 3D reconstructions."
   ]
  }
 ],
 "metadata": {
  "kernelspec": {
   "display_name": "Python 3",
   "language": "python",
   "name": "python3"
  },
  "language_info": {
   "codemirror_mode": {
    "name": "ipython",
    "version": 3
   },
   "file_extension": ".py",
   "mimetype": "text/x-python",
   "name": "python",
   "nbconvert_exporter": "python",
   "pygments_lexer": "ipython3",
   "version": "3.8.10"
  }
 },
 "nbformat": 4,
 "nbformat_minor": 4
}

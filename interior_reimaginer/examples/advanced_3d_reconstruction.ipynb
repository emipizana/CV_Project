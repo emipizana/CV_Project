{
 "cells": [
  {
   "cell_type": "markdown",
   "metadata": {},
   "source": [
    "# Advanced 3D Reconstruction with Enhanced Depth Processing\n",
    "\n",
    "This notebook demonstrates high-quality 3D reconstruction of interior spaces using Open3D, leveraging GAN and diffusion-based depth enhancement methods. It is designed to work independently outside the UI interface and function in headless environments.\n",
    "\n",
    "## Features\n",
    "\n",
    "- GAN and diffusion-based depth map enhancement for improved accuracy\n",
    "- Detailed 3D point cloud and mesh generation\n",
    "- High-quality texturing from the original image\n",
    "- Advanced lighting and rendering options\n",
    "- Side-by-side comparison of enhancement methods\n",
    "- Export to standard 3D formats for use in other software"
   ]
  },
  {
   "cell_type": "code",
   "execution_count": null,
   "metadata": {},
   "outputs": [],
   "source": [
    "# Imports would go here\n",
    "import numpy as np\n",
    "import matplotlib.pyplot as plt\n",
    "import cv2\n",
    "import torch\n",
    "import open3d as o3d\n",
    "import os\n",
    "import time\n",
    "from PIL import Image"
   ]
  },
  {
   "cell_type": "markdown",
   "metadata": {},
   "source": [
    "## Export 3D Models to Standard Formats\n",
    "\n",
    "Now let's save our 3D models in standard formats for use in other software:"
   ]
  },
  {
   "cell_type": "code",
   "execution_count": null,
   "metadata": {},
   "outputs": [],
   "source": [
    "# Generate a timestamp for filenames\n",
    "timestamp = int(time.time())\n",
    "\n",
    "# Create a directory for exports if it doesn't exist\n",
    "export_dir = \"3d_exports\"\n",
    "os.makedirs(export_dir, exist_ok=True)\n",
    "\n",
    "# Save point clouds\n",
    "print(\"Saving 3D models...\")\n",
    "\n",
    "# Save original point cloud\n",
    "original_ply_path = os.path.join(export_dir, f\"original_pointcloud_{timestamp}.ply\")\n",
    "o3d.io.write_point_cloud(original_ply_path, original_pcd)\n",
    "print(f\"Original point cloud saved to: {original_ply_path}\")\n",
    "\n",
    "# Save GAN-enhanced point cloud\n",
    "gan_ply_path = os.path.join(export_dir, f\"gan_enhanced_pointcloud_{timestamp}.ply\")\n",
    "o3d.io.write_point_cloud(gan_ply_path, gan_pcd)\n",
    "print(f\"GAN-enhanced point cloud saved to: {gan_ply_path}\")\n",
    "\n",
    "# Save diffusion-enhanced point cloud\n",
    "diffusion_ply_path = os.path.join(export_dir, f\"diffusion_enhanced_pointcloud_{timestamp}.ply\")\n",
    "o3d.io.write_point_cloud(diffusion_ply_path, diffusion_pcd)\n",
    "print(f\"Diffusion-enhanced point cloud saved to: {diffusion_ply_path}\")\n",
    "\n",
    "# Save mesh if it was created\n",
    "if diffusion_mesh is not None:\n",
    "    diffusion_obj_path = os.path.join(export_dir, f\"diffusion_enhanced_mesh_{timestamp}.obj\")\n",
    "    o3d.io.write_triangle_mesh(diffusion_obj_path, diffusion_mesh)\n",
    "    print(f\"Diffusion-enhanced mesh saved to: {diffusion_obj_path}\")"
   ]
  },
  {
   "cell_type": "markdown",
   "metadata": {},
   "source": [
    "## Download the Models (If Running in Colab)\n",
    "\n",
    "If you're running this notebook in Google Colab, you can download the generated 3D models:"
   ]
  },
  {
   "cell_type": "code",
   "execution_count": null,
   "metadata": {},
   "outputs": [],
   "source": [
    "# Download models if in Colab\n",
    "if 'google.colab' in sys.modules:\n",
    "    from google.colab import files\n",
    "    \n",
    "    files.download(original_ply_path)\n",
    "    files.download(gan_ply_path)\n",
    "    files.download(diffusion_ply_path)\n",
    "    \n",
    "    if 'diffusion_obj_path' in locals():\n",
    "        files.download(diffusion_obj_path)"
   ]
  },
  {
   "cell_type": "markdown",
   "metadata": {},
   "source": [
    "## Conclusion\n",
    "\n",
    "In this notebook, we've demonstrated how to:\n",
    "\n",
    "1. Load and process an interior image to extract a depth map\n",
    "2. Enhance the depth map using both GAN and diffusion-based methods\n",
    "3. Visually compare the original, GAN-enhanced, and diffusion-enhanced depth maps\n",
    "4. Create detailed 3D point clouds from each depth map\n",
    "5. Generate a properly textured mesh from the point cloud\n",
    "6. Apply advanced lighting for photorealistic rendering\n",
    "7. Export the 3D models in standard formats for use in other software\n",
    "\n",
    "The diffusion-enhanced depth map generally provides the best results for 3D reconstruction due to its ability to preserve detail while reducing noise. For professional use cases, the exported models can be further refined in 3D modeling software like Blender or Maya."
   ]
  }
 ],
 "metadata": {
  "kernelspec": {
   "display_name": "Python 3",
   "language": "python",
   "name": "python3"
  },
  "language_info": {
   "codemirror_mode": {
    "name": "ipython",
    "version": 3
   },
   "file_extension": ".py",
   "mimetype": "text/x-python",
   "name": "python",
   "nbconvert_exporter": "python",
   "pygments_lexer": "ipython3",
   "version": "3.8.10"
  }
 },
 "nbformat": 4,
 "nbformat_minor": 4
}

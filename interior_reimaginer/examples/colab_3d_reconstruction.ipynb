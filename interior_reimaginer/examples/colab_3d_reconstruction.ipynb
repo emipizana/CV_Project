{
 "cells": [
  {
   "cell_type": "markdown",
   "metadata": {},
   "source": [
    "# Interior Reimaginer: 3D Reconstruction in Google Colab\n",
    "\n",
    "This notebook demonstrates how to use the 3D reconstruction features of Interior Reimaginer in Google Colab.\n",
    "\n",
    "## Setup\n",
    "\n",
    "First, we'll clone the repository and install the required dependencies:"
   ]
  },
  {
   "cell_type": "code",
   "execution_count": null,
   "metadata": {},
   "outputs": [],
   "source": [
    "# Clone the repository\n",
    "!git clone https://github.com/your-username/CV_Project.git\n",
    "%cd CV_Project"
   ]
  },
  {
   "cell_type": "code",
   "execution_count": null,
   "metadata": {},
   "outputs": [],
   "source": [
    "# Install dependencies\n",
    "!pip install -r interior_reimaginer/requirements.txt\n",
    "!pip install open3d matplotlib"
   ]
  },
  {
   "cell_type": "markdown",
   "metadata": {},
   "source": [
    "## Import Required Modules\n",
    "\n",
    "Now let's import the necessary modules and initialize our models:"
   ]
  },
  {
   "cell_type": "code",
   "execution_count": null,
   "metadata": {},
   "outputs": [],
   "source": [
    "from interior_reimaginer.models.interior_reimaginer import InteriorReimaginer\n",
    "from interior_reimaginer.models.reconstruction_3d import DepthReconstructor\n",
    "from PIL import Image\n",
    "import numpy as np\n",
    "import matplotlib.pyplot as plt\n",
    "import torch\n",
    "import time\n",
    "\n",
    "# Check if CUDA is available\n",
    "device = \"cuda\" if torch.cuda.is_available() else \"cpu\"\n",
    "print(f\"Using device: {device}\")"
   ]
  },
  {
   "cell_type": "code",
   "execution_count": null,
   "metadata": {},
   "outputs": [],
   "source": [
    "# Initialize the models\n",
    "print(\"Initializing models...\")\n",
    "reimaginer = InteriorReimaginer(device=device)\n",
    "depth_reconstructor = DepthReconstructor()\n",
    "print(\"Models initialized successfully!\")"
   ]
  },
  {
   "cell_type": "markdown",
   "metadata": {},
   "source": [
    "## Upload or Load an Image\n",
    "\n",
    "You can either upload an image or use a sample image:"
   ]
  },
  {
   "cell_type": "code",
   "execution_count": null,
   "metadata": {},
   "outputs": [],
   "source": [
    "# Option 1: Upload an image\n",
    "from google.colab import files\n",
    "uploaded = files.upload()  # This will prompt to upload an image\n",
    "\n",
    "import io\n",
    "image_name = list(uploaded.keys())[0]\n",
    "image = Image.open(io.BytesIO(uploaded[image_name]))\n",
    "\n",
    "# Display the uploaded image\n",
    "plt.figure(figsize=(12, 8))\n",
    "plt.imshow(image)\n",
    "plt.title(\"Uploaded Image\")\n",
    "plt.axis('off')\n",
    "plt.show()"
   ]
  },
  {
   "cell_type": "markdown",
   "metadata": {},
   "source": [
    "## Process the Image\n",
    "\n",
    "Now we'll process the image to get the depth map and other features:"
   ]
  },
  {
   "cell_type": "code",
   "execution_count": null,
   "metadata": {},
   "outputs": [],
   "source": [
    "print(\"Processing the image...\")\n",
    "processed = reimaginer.image_processor.process_image(image)\n",
    "print(\"Image processing complete!\")\n",
    "\n",
    "# Display the depth map\n",
    "if processed.depth_map is not None:\n",
    "    plt.figure(figsize=(12, 8))\n",
    "    plt.imshow(processed.depth_map, cmap='inferno')\n",
    "    plt.title(\"Generated Depth Map\")\n",
    "    plt.colorbar(label=\"Depth\")\n",
    "    plt.axis('off')\n",
    "    plt.show()\n",
    "else:\n",
    "    print(\"Depth map generation failed.\")"
   ]
  },
  {
   "cell_type": "markdown",
   "metadata": {},
   "source": [
    "## 3D Reconstruction - Point Cloud\n",
    "\n",
    "Create a 3D point cloud from the depth map:"
   ]
  },
  {
   "cell_type": "code",
   "execution_count": null,
   "metadata": {},
   "outputs": [],
   "source": [
    "# Set downsampling factor (adjust for quality vs. performance)\n",
    "downsample_factor = 2  # Higher values = faster but less detailed\n",
    "\n",
    "print(f\"Creating point cloud with downsample factor {downsample_factor}...\")\n",
    "pcd = depth_reconstructor.depth_to_pointcloud(\n",
    "    depth_map=processed.depth_map,\n",
    "    image=image,\n",
    "    downsample_factor=downsample_factor\n",
    ")\n",
    "print(f\"Point cloud created with {len(pcd.points)} points\")\n",
    "\n",
    "# Visualize the point cloud\n",
    "print(\"Rendering point cloud preview...\")\n",
    "preview_img = depth_reconstructor.render_pointcloud_image(pcd)\n",
    "plt.figure(figsize=(12, 8))\n",
    "plt.imshow(preview_img)\n",
    "plt.title(\"Point Cloud Preview\")\n",
    "plt.axis('off')\n",
    "plt.show()\n",
    "\n",
    "# Interactive visualization (may not work in all Colab environments)\n",
    "try:\n",
    "    print(\"Opening interactive point cloud viewer (close the window to continue)...\")\n",
    "    depth_reconstructor.visualize_pointcloud(pcd)\n",
    "except Exception as e:\n",
    "    print(f\"Interactive visualization failed: {e}\")\n",
    "    print(\"This is expected in some Colab environments without display access.\")"
   ]
  },
  {
   "cell_type": "markdown",
   "metadata": {},
   "source": [
    "## 3D Reconstruction - Mesh\n",
    "\n",
    "Convert the point cloud to a mesh:"
   ]
  },
  {
   "cell_type": "code",
   "execution_count": null,
   "metadata": {},
   "outputs": [],
   "source": [
    "print(\"Creating mesh from point cloud...\")\n",
    "try:\n",
    "    mesh = depth_reconstructor.pointcloud_to_mesh(pcd)\n",
    "    print(f\"Mesh created with {len(mesh.triangles)} triangles\")\n",
    "    \n",
    "    # Visualize the mesh\n",
    "    print(\"Rendering mesh preview...\")\n",
    "    preview_img = depth_reconstructor.render_mesh_image(mesh)\n",
    "    plt.figure(figsize=(12, 8))\n",
    "    plt.imshow(preview_img)\n",
    "    plt.title(\"Mesh Preview\")\n",
    "    plt.axis('off')\n",
    "    plt.show()\n",
    "    \n",
    "    # Interactive visualization (may not work in all Colab environments)\n",
    "    try:\n",
    "        print(\"Opening interactive mesh viewer (close the window to continue)...\")\n",
    "        depth_reconstructor.visualize_mesh(mesh)\n",
    "    except Exception as e:\n",
    "        print(f\"Interactive visualization failed: {e}\")\n",
    "        print(\"This is expected in some Colab environments without display access.\")\n",
    "except Exception as e:\n",
    "    print(f\"Mesh creation failed: {e}\")"
   ]
  },
  {
   "cell_type": "markdown",
   "metadata": {},
   "source": [
    "## Save the 3D Models\n",
    "\n",
    "Save the point cloud and mesh to files:"
   ]
  },
  {
   "cell_type": "code",
   "execution_count": null,
   "metadata": {},
   "outputs": [],
   "source": [
    "# Generate a unique timestamp for the filenames\n",
    "timestamp = int(time.time())\n",
    "\n",
    "# Save point cloud\n",
    "pcd_path = depth_reconstructor.save_pointcloud(pcd, f\"interior_pointcloud_{timestamp}\")\n",
    "print(f\"Point cloud saved to: {pcd_path}\")\n",
    "\n",
    "# Save mesh if it was created\n",
    "try:\n",
    "    if 'mesh' in locals():\n",
    "        mesh_path = depth_reconstructor.save_mesh(mesh, f\"interior_mesh_{timestamp}\")\n",
    "        print(f\"Mesh saved to: {mesh_path}\")\n",
    "except Exception as e:\n",
    "    print(f\"Error saving mesh: {e}\")"
   ]
  },
  {
   "cell_type": "markdown",
   "metadata": {},
   "source": [
    "## Download the 3D Models\n",
    "\n",
    "Download the generated 3D models to your local machine:"
   ]
  },
  {
   "cell_type": "code",
   "execution_count": null,
   "metadata": {},
   "outputs": [],
   "source": [
    "from google.colab import files\n",
    "\n",
    "# Download the point cloud file\n",
    "files.download(pcd_path)\n",
    "\n",
    "# Download the mesh file if it exists\n",
    "try:\n",
    "    if 'mesh_path' in locals():\n",
    "        files.download(mesh_path)\n",
    "except Exception as e:\n",
    "    print(f\"Error downloading mesh: {e}\")"
   ]
  },
  {
   "cell_type": "markdown",
   "metadata": {},
   "source": [
    "## Conclusion\n",
    "\n",
    "You have now successfully:\n",
    "1. Processed an interior image to extract its depth map\n",
    "2. Created a 3D point cloud from the depth map\n",
    "3. Generated a 3D mesh from the point cloud\n",
    "4. Saved and downloaded the 3D models\n",
    "\n",
    "These 3D models can be imported into other 3D software like Blender, Unity, or other 3D viewers for further use."
   ]
  }
 ],
 "metadata": {
  "kernelspec": {
   "display_name": "Python 3",
   "language": "python",
   "name": "python3"
  },
  "language_info": {
   "codemirror_mode": {
    "name": "ipython",
    "version": 3
   },
   "file_extension": ".py",
   "mimetype": "text/x-python",
   "name": "python",
   "nbconvert_exporter": "python",
   "pygments_lexer": "ipython3",
   "version": "3.8.10"
  }
 },
 "nbformat": 4,
 "nbformat_minor": 4
}
